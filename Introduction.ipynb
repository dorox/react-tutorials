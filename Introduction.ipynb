{
 "cells": [
  {
   "cell_type": "markdown",
   "metadata": {},
   "source": [
    "\n",
    "REaCT-hub\n",
    "===============================\n",
    "---------------------------\n",
    "This is an interactive programming environment for data analysis, simulation, physical and chemical properties access.\n",
    "\n",
    "#### When to use it:\n",
    "1. You are working with large datasets.\n",
    "2. There is a large number of repetetive operations for every bit of data analysis.\n",
    "3. You want to produce well-formatted illustrations, but don't want to use Origin.\n",
    "4. You would like to test hypothesis or learn how the process operates using modelling.\n",
    "5. You are looking to derive numerical parameters from experimental data and Excel's linear fit is not enough.\n",
    "6. You need to run linux-only reasearch software.\n",
    "7. You want to learn GIT, Linux command line, Python.\n",
    "\n",
    "#### When not to use it:\n",
    "1. You are not ready to invest time to learn programming in Python.\n",
    "2. You don't have a concrete work plan.\n",
    "3. The datasets are small enough to be analysed in Excel.\n",
    "4. There is a Windows software that does all your tasks.\n",
    "\n",
    "List of examples\n",
    "------------------------\n",
    "------------------------\n",
    "\n",
    "#### Introduction into interactive computing:\n",
    "1. Jupyter environment [Jupyter.ipynb](./Jupyter.ipynb)\n",
    "2. Python\n",
    "3. Typical data analysis tasks\n",
    "\n",
    "#### Chemical mechanisms:\n",
    "1. Examples of simple chemical reactions: [Chemistry_basics.ipynb](./Chemistry_basics.ipynb)\n",
    "1. Finding the kinetic constants from experimental data: [Chemistry_fitting.ipynb](./Chemistry_fitting.ipynb)\n",
    "1. Advanced examples of oscillatory reactions (chemical clock, predator-prey): [Chemistry_Oscillations.ipynb](./Chemistry_Oscillations.ipynb)\n",
    "1. Michaelis-Menten kinetics: approximated model and exact numerical solution (incomplete): [Chemistry_Michaelis-Menten.ipynb](./Chemistry_Michaelis-Menten.ipynb)\n",
    "1. Reproducing experiments for activation energy measurements (to be simplified): [Activation_energy.ipynb](./Activation_energy.ipynb)\n",
    "\n",
    "#### Continuous reactors: CSTR and PFR:\n",
    "1. Examples of setups for dynamic systems with single reactors: [Reactors_basics.ipynb](./Reactors_basics.ipynb)\n",
    "1. Combinations of reactors in series: [Flowsheet.ipynb](./Flowsheet.ipynb)\n",
    "1. Fitting experimental data from continuous reactors is currently not available.\n",
    "\n"
   ]
  },
  {
   "cell_type": "code",
   "execution_count": null,
   "metadata": {},
   "outputs": [],
   "source": []
  }
 ],
 "metadata": {
  "kernelspec": {
   "display_name": "Python 3",
   "language": "python",
   "name": "python3"
  },
  "language_info": {
   "codemirror_mode": {
    "name": "ipython",
    "version": 3
   },
   "file_extension": ".py",
   "mimetype": "text/x-python",
   "name": "python",
   "nbconvert_exporter": "python",
   "pygments_lexer": "ipython3",
   "version": "3.7.4"
  }
 },
 "nbformat": 4,
 "nbformat_minor": 4
}
