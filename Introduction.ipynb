{
 "cells": [
  {
   "cell_type": "markdown",
   "metadata": {},
   "source": [
    "\n",
    "REaCT-hub\n",
    "===============================\n",
    "---------------------------\n",
    "This is an interactive programming environment for data analysis, simulation, physical and chemical properties access.\n",
    "\n",
    "The tutorials would be continuosly updated according to users' feedback.\n",
    "\n",
    "#### When to use it:\n",
    "1. You are working with large datasets.\n",
    "2. There is a large number of repetetive operations for every bit of data analysis.\n",
    "3. You want to produce well-formatted illustrations, but don't want to use Origin.\n",
    "4. You would like to test hypothesis or learn how the process operates using modelling.\n",
    "5. You are looking to derive numerical parameters from experimental data and Excel's linear fit is not enough.\n",
    "6. You need to run linux-only reasearch software.\n",
    "7. You want to learn GIT, Linux command line, Python.\n",
    "\n",
    "#### When not to use it:\n",
    "1. You are not ready to invest time to learn programming in Python.\n",
    "2. You don't have a concrete work plan.\n",
    "3. The datasets are small enough to be analysed in Excel.\n",
    "4. There is a Windows software that does all your tasks.\n",
    "\n",
    "Personal disk space:\n",
    "------------------------\n",
    "------------------------\n",
    "By default, the JupyterLab is started in `/react-tutorials` folder.\n",
    "Folders `/Python` and `/react-tutorials` are read-only.\n",
    "\n",
    "Folder `/shared` is available to all users of react-hub, any file or folder placed there would be visible and editable by **any** user\n",
    "\n",
    "Any other folders or files that you create in root directory `/` are available only to you and server admin (Ilia Dorokhov, i.dorokhov14@imperial.ac.uk)\n",
    "\n",
    "List of tutorials\n",
    "------------------------\n",
    "------------------------\n",
    "\n",
    "#### Introduction into interactive computing:\n",
    "1. Navigation, file creation, code running: [Jupyter environment](./Jupyter.ipynb)\n",
    "2. Python programming basics: [Python Basics](.././Python/Basics/02-Basic-Python-Syntax.ipynb)\n",
    "3. Advanced Pyhton: typical data analysis tasks (Machine learning is not currently available here): [Data Science Handbook](.././Python/Data_Science_Hanbook/00.00-Preface.ipynb)\n",
    "\n",
    "#### Chemical mechanisms:\n",
    "1. Examples of simple chemical reactions: [Chemistry_basics](./Chemistry_basics.ipynb)\n",
    "1. Finding the kinetic constants from experimental data: [Chemistry_fitting](./Chemistry_fitting.ipynb)\n",
    "1. Advanced examples of oscillatory reactions (chemical clock, predator-prey): [Chemistry_Oscillations](./Chemistry_Oscillations.ipynb)\n",
    "1. Reactions on surfaces: [Langmuir–Hinshelwood and Eley–Rideal mechanisms](./Chemistry_Surface_Reactions.ipynb)\n",
    "1. Michaelis-Menten kinetics: approximated model and exact numerical solution (incomplete): [Chemistry_Michaelis-Menten](./Chemistry_Michaelis-Menten.ipynb)\n",
    "1. Reproducing experiments for activation energy measurements (to be simplified): [Activation_energy](./Activation_energy.ipynb)\n",
    "\n",
    "#### Continuous reactors: CSTR and PFR:\n",
    "1. Examples of dynamic systems with single reactors: [Reactors_basics](./Reactors_basics.ipynb)\n",
    "1. Combinations of reactors in series: [Flowsheet](./Flowsheet.ipynb)\n",
    "1. Fitting experimental data from continuous reactors is currently not available.\n"
   ]
  }
 ],
 "metadata": {
  "kernelspec": {
   "display_name": "Python 3",
   "language": "python",
   "name": "python3"
  },
  "language_info": {
   "codemirror_mode": {
    "name": "ipython",
    "version": 3
   },
   "file_extension": ".py",
   "mimetype": "text/x-python",
   "name": "python",
   "nbconvert_exporter": "python",
   "pygments_lexer": "ipython3",
   "version": "3.7.4"
  }
 },
 "nbformat": 4,
 "nbformat_minor": 4
}
