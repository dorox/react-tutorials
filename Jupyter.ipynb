{
 "cells": [
  {
   "cell_type": "markdown",
   "metadata": {},
   "source": [
    "JupyterLab\n",
    "=============\n",
    "-------------\n",
    "This website is based on JupyterHub: each user has its own interactive programming environment based on Python programming language. The website is accessible only via college local network (Wi-Fi, ethernet, VPN), hence no HTTPS encryption. The website is hosted on a dedicated PC with limited resources. Users get their own disk space on the server, read onlyas well as a common shared folder for collaboration.\n",
    "[JupyterLab Documentation](https://jupyterlab.readthedocs.io/en/stable/)"
   ]
  },
  {
   "cell_type": "code",
   "execution_count": null,
   "metadata": {},
   "outputs": [],
   "source": []
  }
 ],
 "metadata": {
  "kernelspec": {
   "display_name": "Python 3",
   "language": "python",
   "name": "python3"
  },
  "language_info": {
   "codemirror_mode": {
    "name": "ipython",
    "version": 3
   },
   "file_extension": ".py",
   "mimetype": "text/x-python",
   "name": "python",
   "nbconvert_exporter": "python",
   "pygments_lexer": "ipython3",
   "version": "3.7.4"
  }
 },
 "nbformat": 4,
 "nbformat_minor": 4
}
