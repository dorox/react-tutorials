{
 "cells": [
  {
   "cell_type": "markdown",
   "metadata": {},
   "source": [
    "JupyterLab\n",
    "=============\n",
    "-------------\n"
   ]
  },
  {
   "cell_type": "markdown",
   "metadata": {},
   "source": [
    "This website is based on JupyterHub: each user has its own interactive programming environment based on JupyterLab, and Python programming language. The website is accessible only via college local network (Wi-Fi, ethernet, VPN), hence no HTTPS encryption. The website is hosted on a dedicated PC with limited resources, so please, do not abuse it. Users get:\n",
    "\n",
    "- their own disk space on the server.\n",
    "- read-only tutorials on Python and Chemical modellilng\n",
    "- common shared folder for collaboration.\n",
    "\n",
    "Below you'll fing basics of JupyterLab, the detailed documentation on JupyterLab interface is here:\n",
    "[JupyterLab Documentation](https://jupyterlab.readthedocs.io/en/stable/)"
   ]
  },
  {
   "cell_type": "markdown",
   "metadata": {},
   "source": [
    "#### Important notes:\n",
    "1. The server automatically shuts down your workspace after **10 minutes** of inactivity: make sure you regularly save your code. Autosaving is enabled by default, the interval is 2 minutes\n",
    "1. There is no data backup at the moment: please, do not store valuable files without backed-up copy somewhere else."
   ]
  },
  {
   "cell_type": "markdown",
   "metadata": {},
   "source": [
    "Quick start guide:\n",
    "------------------\n",
    "------------------"
   ]
  },
  {
   "cell_type": "markdown",
   "metadata": {},
   "source": [
    "### Creating new file:\n",
    "\n",
    "1. Go to the root directory by clicking on the folder symbol\n",
    "1. Click on a `+` sign in the top right of the screen \n",
    "1. Select Python3 under the `Notebook` badge\n",
    "1. New file `Untitled.ipynb` is created\n",
    "\n",
    "![new](./img/newfile.gif)"
   ]
  },
  {
   "cell_type": "markdown",
   "metadata": {},
   "source": [
    "### Writing code, running cells:\n",
    "\n",
    "1. Click on the first cell and enter your code\n",
    "1. Press `Shift`+`Enter` to run the selected cell\n",
    "\n",
    "![new](./img/runcell.gif)\n",
    "\n",
    "Cells have two states: `Edit` and `Command`:\n",
    "- `Edit` allows to enter code\n",
    "- `Command` allows to copy/move/delete the entire cell\n",
    "\n",
    "![new](./img/cell_modes.png)\n",
    "\n",
    "1. To switch from `Edit` to `Command`, press `Esc`\n",
    "1. To add cells, press in Command mode: \n",
    "    below, `B` \n",
    "    above, `A`\n",
    "1. To cut cells, press `X`\n",
    "1. Navigate between cells with arrows"
   ]
  },
  {
   "cell_type": "markdown",
   "metadata": {},
   "source": [
    "#### Uploading files:\n",
    "Use simple drag and drop to upload files\n",
    "![upload](./img/upload.gif)"
   ]
  }
 ],
 "metadata": {
  "kernelspec": {
   "display_name": "Python 3",
   "language": "python",
   "name": "python3"
  },
  "language_info": {
   "codemirror_mode": {
    "name": "ipython",
    "version": 3
   },
   "file_extension": ".py",
   "mimetype": "text/x-python",
   "name": "python",
   "nbconvert_exporter": "python",
   "pygments_lexer": "ipython3",
   "version": "3.7.4"
  }
 },
 "nbformat": 4,
 "nbformat_minor": 4
}
