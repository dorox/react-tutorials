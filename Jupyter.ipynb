{
 "cells": [
  {
   "cell_type": "markdown",
   "metadata": {},
   "source": [
    "JupyterLab\n",
    "=============\n",
    "-------------\n"
   ]
  },
  {
   "cell_type": "markdown",
   "metadata": {},
   "source": [
    "This website is based on JupyterHub: each user has its own interactive programming environment based JupyterLab, with Python programming language. The website is accessible only via college local network (Wi-Fi, ethernet, VPN), hence no HTTPS encryption. The website is hosted on a dedicated PC with limited resources. Users get:\n",
    "\n",
    "- their own disk space on the server.\n",
    "- read-only tutorials on Python and Chemical modellilng\n",
    "- common shared folder for collaboration.\n",
    "\n",
    "The detailed documentation on the Jupyter interface:\n",
    "[JupyterLab Documentation](https://jupyterlab.readthedocs.io/en/stable/)"
   ]
  },
  {
   "cell_type": "markdown",
   "metadata": {},
   "source": [
    "# Important notes:\n",
    "1. The server automatically shuts down your workspace after a short period of inactivity: make sure you regularly save your code.\n",
    "1. There is no data backup at the moment: please, do not store valuable files without backed-up copy somewhere else."
   ]
  }
 ],
 "metadata": {
  "kernelspec": {
   "display_name": "Python 3",
   "language": "python",
   "name": "python3"
  },
  "language_info": {
   "codemirror_mode": {
    "name": "ipython",
    "version": 3
   },
   "file_extension": ".py",
   "mimetype": "text/x-python",
   "name": "python",
   "nbconvert_exporter": "python",
   "pygments_lexer": "ipython3",
   "version": "3.7.4"
  }
 },
 "nbformat": 4,
 "nbformat_minor": 4
}
