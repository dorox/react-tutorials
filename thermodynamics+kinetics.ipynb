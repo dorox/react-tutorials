{
 "cells": [
  {
   "cell_type": "markdown",
   "metadata": {},
   "source": [
    "# Using NIST WEBBOK data\n",
    "Thermodynamics:"
   ]
  },
  {
   "cell_type": "code",
   "execution_count": 1,
   "metadata": {},
   "outputs": [],
   "source": [
    "TAME_h = -341.8 # [kJ/mol]\n",
    "MeOH_h = -238.4 # [kJ/mol] \n",
    "MeOH_Cp = 81 # [J/mol/K]\n",
    "MeOH_d  = 0.792*1000 # [g/L]\n",
    "MeOH_M = 32.04 # [g/mol]\n",
    "_2M1B_h = -61 # [kJ/mol]\n",
    "_2M1B_Cp = 157 # [kJ/mol]\n",
    "_2M2B_h = -68 # [kJ/mol]\n",
    "_2M2B_Cp = 152 # [kJ/mol]"
   ]
  },
  {
   "cell_type": "markdown",
   "metadata": {},
   "source": [
    "Reaction kinetics:"
   ]
  },
  {
   "cell_type": "code",
   "execution_count": 2,
   "metadata": {},
   "outputs": [],
   "source": [
    "Q = 5.2 # [cm3/min] - flow rate\n",
    "L = 259 # [mm] - bed length\n",
    "V = L*(3.14*(16/2)**2)/1000 # [cm3] - reactor volume\n",
    "Rm_ia = 1.5 # Ratio MeOH/2M1B\n",
    "C = 1 # [mol/L]\n",
    "meohL = 1/MeOH_d*MeOH_M # [L/mol]\n",
    "C_m = 1/meohL # [mol/L]\n",
    "X = 0.5 # conversion\n",
    "rt = V/Q # res. time, [min]"
   ]
  },
  {
   "cell_type": "code",
   "execution_count": 3,
   "metadata": {},
   "outputs": [
    {
     "data": {
      "text/plain": [
       "0.1331245173745174"
      ]
     },
     "execution_count": 3,
     "metadata": {},
     "output_type": "execute_result"
    }
   ],
   "source": [
    "V2 = 100*(3.14*(4.12/2)**2)/1000 # vol of my reactor [cm3]\n",
    "V2/rt # required Q for same rt [cm3/min]"
   ]
  },
  {
   "cell_type": "markdown",
   "metadata": {},
   "source": [
    "Maximum temp rise:\n",
    "$$\n",
    "\\Delta T = \\frac{\\Delta H}{C_p}\n",
    "$$"
   ]
  },
  {
   "cell_type": "code",
   "execution_count": 4,
   "metadata": {},
   "outputs": [],
   "source": [
    "dT_mol = ((MeOH_h + _2M1B_h) - TAME_h)*1000/_2M1B_Cp"
   ]
  },
  {
   "cell_type": "code",
   "execution_count": 5,
   "metadata": {},
   "outputs": [
    {
     "name": "stdout",
     "output_type": "stream",
     "text": [
      "dT at R=1.5: 180.0, K\n"
     ]
    }
   ],
   "source": [
    "print(f'dT at R={Rm_ia}: {dT_mol/Rm_ia:0.1f}, K')"
   ]
  },
  {
   "cell_type": "markdown",
   "metadata": {},
   "source": [
    "calculate for high dilution. \n",
    "Kinetics - no activities, no mass transfer limitations"
   ]
  },
  {
   "cell_type": "code",
   "execution_count": 11,
   "metadata": {},
   "outputs": [
    {
     "name": "stdout",
     "output_type": "stream",
     "text": [
      "dT per 2M1B concentration C=1[mol/L]: 10.9, K\n"
     ]
    }
   ],
   "source": [
    "dT_C = dT_mol*C*meohL\n",
    "print(f'dT per 2M1B concentration C={C}[mol/L]: {dT_C:0.1f}, K')"
   ]
  },
  {
   "cell_type": "markdown",
   "metadata": {},
   "source": [
    "Kinetic model\n",
    "---------------"
   ]
  },
  {
   "cell_type": "markdown",
   "metadata": {},
   "source": [
    "Constants:"
   ]
  },
  {
   "cell_type": "code",
   "execution_count": 62,
   "metadata": {},
   "outputs": [],
   "source": [
    "R = 8.314e-3 # [kJ/K/mol]\n",
    "k1 = 2.52e15 # [mol/g/h]\n",
    "k2 = 9.5e12 # [mol/g/h]\n",
    "k3 = 5.42e11 # [mol/g/h]\n",
    "E1 = 106.47 # [kJ/mol]\n",
    "E2 = 92.45 # [kJ/mol]\n",
    "E3 = 82.43 # [kJ/mol]\n",
    "dH_ads = -17 # [kj/mol]\n",
    "Km = 8.34e-2 # [-]"
   ]
  },
  {
   "cell_type": "markdown",
   "metadata": {},
   "source": [
    "Variables"
   ]
  },
  {
   "cell_type": "code",
   "execution_count": 63,
   "metadata": {},
   "outputs": [],
   "source": [
    "T = 293"
   ]
  },
  {
   "cell_type": "markdown",
   "metadata": {},
   "source": [
    "Equations"
   ]
  },
  {
   "cell_type": "code",
   "execution_count": 124,
   "metadata": {},
   "outputs": [],
   "source": [
    "def k(A,Ea,T):\n",
    "    return A*np.exp(-Ea/R/T)\n",
    "\n",
    "def Keq1(T):\n",
    "    return np.exp(4.63e3/T - 9.875)\n",
    "\n",
    "def Keq2(T):\n",
    "    return np.exp(3.57e3/T - 9.382)\n",
    "\n",
    "def r1(T,k1,Km,Cm,C1b,Ct):\n",
    "    k1 = k(k1,E1,T)\n",
    "    return (k1*Km**2)/(1+Km*Cm)**2 * (Cm*C1b-Ct/Keq1(T))\n",
    "\n",
    "def r2(T,k2,Km,Cm,C2b,Ct):\n",
    "    k2 = k(k2,E2,T)\n",
    "    return (k2*Km**2)/(1+Km*Cm)**2 * (Cm*C2b-Ct/Keq2(T))\n",
    "\n",
    "def r3(T,k3,Km,Cm,C1b,C2b):\n",
    "    k3 = k(k3,E3,T)\n",
    "    Keq3 = Keq1(T)/Keq2(T)\n",
    "    return (k3*Km**2)/(1+Km*Cm) * (C1b-C2b/Keq3)"
   ]
  },
  {
   "cell_type": "markdown",
   "metadata": {},
   "source": [
    "Model"
   ]
  },
  {
   "cell_type": "code",
   "execution_count": 88,
   "metadata": {},
   "outputs": [],
   "source": [
    "import numpy as np\n",
    "import chemreact\n",
    "import copy"
   ]
  },
  {
   "cell_type": "code",
   "execution_count": 89,
   "metadata": {},
   "outputs": [
    {
     "data": {
      "image/png": "[encoded data removed]",
      "text/plain": [
       "<Figure size 432x288 with 1 Axes>"
      ]
     },
     "metadata": {
      "needs_background": "light"
     },
     "output_type": "display_data"
    },
    {
     "name": "stdout",
     "output_type": "stream",
     "text": [
      "run time: 0.016s\n"
     ]
    }
   ],
   "source": [
    "c = chemreact.models.Chemistry()\n",
    "c.reaction('M1B+MeOH<=>TAME')\n",
    "c.reaction('M2B+MeOH<=>TAME')\n",
    "c.reaction('M1B<=>M2B')\n",
    "c.initial_concentrations(M1B=1, MeOH=1)\n",
    "c.run()"
   ]
  },
  {
   "cell_type": "code",
   "execution_count": 90,
   "metadata": {},
   "outputs": [],
   "source": [
    "c2 = copy.deepcopy(c)"
   ]
  },
  {
   "cell_type": "code",
   "execution_count": 91,
   "metadata": {},
   "outputs": [
    {
     "data": {
      "text/plain": [
       "OrderedDict([('M1B', 0), ('M2B', 0), ('MeOH', 0), ('TAME', 0)])"
      ]
     },
     "execution_count": 91,
     "metadata": {},
     "output_type": "execute_result"
    }
   ],
   "source": [
    "c2.variables"
   ]
  },
  {
   "cell_type": "code",
   "execution_count": 125,
   "metadata": {},
   "outputs": [],
   "source": [
    "def _ode(t, y):\n",
    "    m1b = y[0]\n",
    "    m2b = y[1]\n",
    "    meoh = y[2]\n",
    "    tame = y[3]\n",
    "    _r1 = r1(T,k1,Km,meoh,m1b,tame)\n",
    "    _r2 = r2(T,k2,Km,meoh,m2b,tame)\n",
    "    _r3 = r3(T,k3,Km,meoh,m1b,m2b)\n",
    "    \n",
    "    d_m1b = -_r1 - _r3\n",
    "    d_m2b = -_r2 + _r3\n",
    "    d_meoh = - _r1 - _r2\n",
    "    d_tame = _r1 + _r2\n",
    "    return [d_m1b, d_m2b, d_meoh, d_tame]"
   ]
  },
  {
   "cell_type": "code",
   "execution_count": 126,
   "metadata": {},
   "outputs": [],
   "source": [
    "c2._ode = _ode"
   ]
  },
  {
   "cell_type": "code",
   "execution_count": 127,
   "metadata": {},
   "outputs": [],
   "source": [
    "c2.time_stop = 2000"
   ]
  },
  {
   "cell_type": "code",
   "execution_count": 128,
   "metadata": {},
   "outputs": [
    {
     "data": {
      "image/png": "[encoded data removed]",
      "text/plain": [
       "<Figure size 432x288 with 1 Axes>"
      ]
     },
     "metadata": {
      "needs_background": "light"
     },
     "output_type": "display_data"
    },
    {
     "name": "stdout",
     "output_type": "stream",
     "text": [
      "run time: 0.010s\n"
     ]
    }
   ],
   "source": [
    "T=353\n",
    "c2.initial_concentrations(M1B = 0.1, M2B= 0.15, MeOH = 0.11)\n",
    "c2.run()"
   ]
  },
  {
   "cell_type": "code",
   "execution_count": 121,
   "metadata": {},
   "outputs": [
    {
     "name": "stdout",
     "output_type": "stream",
     "text": [
      "Package            Version\n",
      "------------------ -------\n",
      "attrs              19.1.0 \n",
      "backcall           0.1.0  \n",
      "bleach             3.1.0  \n",
      "chemreact          0.0.1  \n",
      "colorama           0.4.1  \n",
      "cycler             0.10.0 \n",
      "decorator          4.4.0  \n",
      "defusedxml         0.6.0  \n",
      "entrypoints        0.3    \n",
      "findiff            0.6.3  \n",
      "ipykernel          5.1.0  \n",
      "ipython            7.5.0  \n",
      "ipython-genutils   0.2.0  \n",
      "ipywidgets         7.4.2  \n",
      "jedi               0.13.3 \n",
      "Jinja2             2.10.1 \n",
      "jsonschema         3.0.1  \n",
      "jupyter-client     5.2.4  \n",
      "jupyter-core       4.4.0  \n",
      "kiwisolver         1.1.0  \n",
      "MarkupSafe         1.1.1  \n",
      "matplotlib         3.0.3  \n",
      "mistune            0.8.4  \n",
      "nbconvert          5.5.0  \n",
      "nbformat           4.4.0  \n",
      "notebook           5.7.8  \n",
      "numpy              1.16.3 \n",
      "pandocfilters      1.4.2  \n",
      "parso              0.4.0  \n",
      "pickleshare        0.7.5  \n",
      "pip                18.1   \n",
      "prometheus-client  0.6.0  \n",
      "prompt-toolkit     2.0.9  \n",
      "Pygments           2.4.0  \n",
      "pyparsing          2.4.0  \n",
      "pyrsistent         0.15.2 \n",
      "python-dateutil    2.8.0  \n",
      "pywinpty           0.5.5  \n",
      "pyzmq              18.0.1 \n",
      "scipy              1.2.1  \n",
      "Send2Trash         1.5.0  \n",
      "setuptools         40.6.2 \n",
      "six                1.12.0 \n",
      "terminado          0.8.2  \n",
      "testpath           0.4.2  \n",
      "tornado            6.0.2  \n",
      "traitlets          4.3.2  \n",
      "wcwidth            0.1.7  \n",
      "webencodings       0.5.1  \n",
      "widgetsnbextension 3.4.2  \n",
      "Note: you may need to restart the kernel to use updated packages.\n"
     ]
    },
    {
     "name": "stderr",
     "output_type": "stream",
     "text": [
      "You are using pip version 18.1, however version 19.2.3 is available.\n",
      "You should consider upgrading via the 'python -m pip install --upgrade pip' command.\n"
     ]
    }
   ],
   "source": [
    "%pip list"
   ]
  },
  {
   "cell_type": "code",
   "execution_count": null,
   "metadata": {},
   "outputs": [],
   "source": []
  }
 ],
 "metadata": {
  "kernelspec": {
   "display_name": "Python (other-env)",
   "language": "python",
   "name": "venv"
  },
  "language_info": {
   "codemirror_mode": {
    "name": "ipython",
    "version": 3
   },
   "file_extension": ".py",
   "mimetype": "text/x-python",
   "name": "python",
   "nbconvert_exporter": "python",
   "pygments_lexer": "ipython3",
   "version": "3.7.2"
  },
  "varInspector": {
   "cols": {
    "lenName": 16,
    "lenType": 16,
    "lenVar": 40
   },
   "kernels_config": {
    "python": {
     "delete_cmd_postfix": "",
     "delete_cmd_prefix": "del ",
     "library": "var_list.py",
     "varRefreshCmd": "print(var_dic_list())"
    },
    "r": {
     "delete_cmd_postfix": ") ",
     "delete_cmd_prefix": "rm(",
     "library": "var_list.r",
     "varRefreshCmd": "cat(var_dic_list()) "
    }
   },
   "types_to_exclude": [
    "module",
    "function",
    "builtin_function_or_method",
    "instance",
    "_Feature"
   ],
   "window_display": false
  }
 },
 "nbformat": 4,
 "nbformat_minor": 4
}
