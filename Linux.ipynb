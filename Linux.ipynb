{
 "cells": [
  {
   "cell_type": "markdown",
   "metadata": {},
   "source": [
    "Introduction into Linux console\n",
    "-----------------------------------\n",
    "The server runs on Ubuntu Linux OS. This is particularly helpful if you need to use Linux-only software.\n",
    "Typically an interaction with Linux is done via command line. It can be accessed via `New launcher` - `terminal`.\n",
    "\n",
    "Once you opened the terminal, you'll see something like this:`jupyter-id814@ce-klaush46:~$`, where :\n",
    "- `jupyter-id814` is your username\n",
    "- `ce-klaush46` is a computer name\n",
    "- `~` is the home path. In this case the symbol `~`is the shortcut, meaning this path: `/home/jupyter-id814`\n",
    "- anythin after the `$` is user-input field\n",
    "\n",
    "Interaction is done via entering commands and observing text output. Don't be afraid to try things as your user account has very limited permissions and you cannot do any harm. For example you cannot remove someone else's files, you can't install or delete programs or python packages.\n",
    "\n",
    "### Basic commands you would need:\n",
    "1. `pwd` : view path to the current directory\n",
    "1. `ls` : view files in the current directory\n",
    "1. `cd [path]` : change directory\n",
    "1. `mkdir [name]` : create a directory\n",
    "1. `rm [path]` : remove file, or `rm -r [path]` to remove directory and all its contents\n",
    "1. `man [command]` : view a manual for a specific command (try `man ls`)\n",
    "1. `mv [path_from] [path_to]` : move file\n",
    "1. `cp [path_from] [path_to]` : copy file\n",
    "\n",
    "### Advanced commands:\n",
    "1. `python [path_to_.py_script]` run python inside terminal interactively or run python file\n",
    "1. `ipython` run interactive python console. This could be accessed conveniently via `New launcher` - `console`\n",
    "1. `nano [path]` simple text editor\n",
    "1. `can [path]` view contents of a file\n",
    "1. `git [options]` used to interact with version-control or backup package 'Git'.\n",
    "\n",
    "For further info refer to google.com\n"
   ]
  }
 ],
 "metadata": {
  "kernelspec": {
   "display_name": "Python 3",
   "language": "python",
   "name": "python3"
  },
  "language_info": {
   "codemirror_mode": {
    "name": "ipython",
    "version": 3
   },
   "file_extension": ".py",
   "mimetype": "text/x-python",
   "name": "python",
   "nbconvert_exporter": "python",
   "pygments_lexer": "ipython3",
   "version": "3.7.4"
  }
 },
 "nbformat": 4,
 "nbformat_minor": 4
}
