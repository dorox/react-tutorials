{
 "cells": [
  {
   "cell_type": "markdown",
   "metadata": {},
   "source": [
    "Accessing thermodynamic properties\n",
    "-----------------------------\n",
    "This is possible with `thermo` package, see documentations: https://thermo.readthedocs.io/en/latest/thermo.chemical.html"
   ]
  },
  {
   "cell_type": "code",
   "execution_count": 1,
   "metadata": {},
   "outputs": [],
   "source": [
    "from thermo.chemical import Chemical\n",
    "import matplotlib.pyplot as plt\n",
    "import numpy as np"
   ]
  },
  {
   "cell_type": "markdown",
   "metadata": {},
   "source": [
    "Chemicals can be accessed via name, CAS number, or SMILES"
   ]
  },
  {
   "cell_type": "code",
   "execution_count": 2,
   "metadata": {},
   "outputs": [],
   "source": [
    "toluene = Chemical('toluene')\n",
    "toluene = Chemical('108-88-3')\n",
    "toluene = Chemical('SMILES=CC1=CC=CC=C1')"
   ]
  },
  {
   "cell_type": "markdown",
   "metadata": {},
   "source": [
    "Accessing properties, by default they are returned for normal conditions 293.15 [K], 101325 [Pa]"
   ]
  },
  {
   "cell_type": "code",
   "execution_count": 3,
   "metadata": {},
   "outputs": [
    {
     "name": "stdout",
     "output_type": "stream",
     "text": [
      "92.13842\n",
      "C7H8\n",
      "{'C': 7, 'H': 8}\n",
      "C7H8/c1-7-5-3-2-4-6-7/h2-6H,1H3\n",
      "179.2 383.75 591.75\n"
     ]
    }
   ],
   "source": [
    "print(toluene.MW) # Molecular weight\n",
    "print(toluene.formula)\n",
    "print(toluene.atoms)\n",
    "print(toluene.InChI)\n",
    "print(toluene.Tm, toluene.Tb, toluene.Tc) # Temperatures of melting, boiling and critical [K]"
   ]
  },
  {
   "cell_type": "markdown",
   "metadata": {},
   "source": [
    "Calculating properties for different conditions"
   ]
  },
  {
   "cell_type": "code",
   "execution_count": 4,
   "metadata": {},
   "outputs": [
    {
     "name": "stdout",
     "output_type": "stream",
     "text": [
      "948.6628180232887\n",
      "862.3257851394108\n"
     ]
    }
   ],
   "source": [
    "toluene.calculate(T=200)\n",
    "print(toluene.rho)\n",
    "toluene.calculate(T=300)\n",
    "print(toluene.rho)"
   ]
  },
  {
   "cell_type": "markdown",
   "metadata": {},
   "source": [
    "### Calculating reaction enthalpy, enthropy and Gibbs energy:\n",
    "Sample reaction is esterification of butyric acid: $\\require{mhchem}$\n",
    "$$\n",
    "\\ce{C3H7-CO-OH + CH3OH-> C3H7-CO-OCH3 + H2O}\n",
    "$$\n",
    "the reaction enthalpy is calulated using entalpies of formation $\\Delta H_f$ for individual species:\n",
    "$$\n",
    "\\Delta H_r = \\sum_{products} \\Delta H_f - \\sum_{reagents} \\Delta H_f\n",
    "$$"
   ]
  },
  {
   "cell_type": "code",
   "execution_count": 7,
   "metadata": {},
   "outputs": [
    {
     "name": "stdout",
     "output_type": "stream",
     "text": [
      "Reaction enthalpy: -21540.0 [J/mol]\n"
     ]
    }
   ],
   "source": [
    "BA = Chemical('butyric acid')\n",
    "M = Chemical('methanol')\n",
    "MB = Chemical('methyl butyrate')\n",
    "W = Chemical('Water')\n",
    "\n",
    "dHr = W.Hf + MB.Hf - M.Hf - BA.Hf\n",
    "print(f'Reaction enthalpy: {dHr} [J/mol]')"
   ]
  },
  {
   "cell_type": "markdown",
   "metadata": {},
   "source": [
    "### Advanced example: plotting a range of properties for a range of compounds and various classes"
   ]
  },
  {
   "cell_type": "code",
   "execution_count": 143,
   "metadata": {},
   "outputs": [],
   "source": [
    "c = ['C'*i for i in range(1,10)]"
   ]
  },
  {
   "cell_type": "code",
   "execution_count": 144,
   "metadata": {},
   "outputs": [],
   "source": [
    "alkanes = [Chemical('SMILES='+i) for i in c]\n",
    "alkenes = [Chemical('SMILES='+i+'=C') for i in c]\n",
    "alkynes = [Chemical('SMILES='+i+'#C') for i in c]\n",
    "alcohols = [Chemical('SMILES='+i+'O') for i in c]\n",
    "aldehydes = [Chemical('SMILES='+i+'=O') for i in c]"
   ]
  },
  {
   "cell_type": "code",
   "execution_count": 145,
   "metadata": {},
   "outputs": [],
   "source": [
    "def plot_property(chem, prop_x, prop_y):\n",
    "    x = [c.__dict__[prop_x] for c in chem]\n",
    "    y = [c.__dict__[prop_y] for c in chem]\n",
    "    plt.scatter(x,y, label=chem[0].name)\n",
    "    plt.title(prop_y+' vs '+prop_x)\n",
    "    plt.xlabel(prop_x)\n",
    "    plt.ylabel(prop_y)\n",
    "    plt.legend()"
   ]
  },
  {
   "cell_type": "markdown",
   "metadata": {},
   "source": [
    "Boiling temperature vs molecular weight"
   ]
  },
  {
   "cell_type": "code",
   "execution_count": 146,
   "metadata": {},
   "outputs": [
    {
     "data": {
      "image/png": "[encoded data removed]",
      "text/plain": [
       "<Figure size 432x288 with 1 Axes>"
      ]
     },
     "metadata": {
      "needs_background": "light"
     },
     "output_type": "display_data"
    }
   ],
   "source": [
    "plot_property(alkanes, 'MW', 'Tb')\n",
    "plot_property(alkenes, 'MW', 'Tb')\n",
    "plot_property(alkynes, 'MW', 'Tb')\n",
    "plot_property(alcohols, 'MW', 'Tb')\n",
    "plot_property(aldehydes, 'MW', 'Tb')"
   ]
  },
  {
   "cell_type": "markdown",
   "metadata": {},
   "source": [
    "Enthalpy of formation vs molecular weight"
   ]
  },
  {
   "cell_type": "code",
   "execution_count": 86,
   "metadata": {},
   "outputs": [
    {
     "data": {
      "image/png": "[encoded data removed]",
      "text/plain": [
       "<Figure size 432x288 with 1 Axes>"
      ]
     },
     "metadata": {
      "needs_background": "light"
     },
     "output_type": "display_data"
    }
   ],
   "source": [
    "plot_property(alkanes, 'MW', 'Hf')\n",
    "plot_property(alkenes, 'MW', 'Hf')\n",
    "plot_property(alkynes, 'MW', 'Hf')\n",
    "plot_property(alcohols, 'MW', 'Hf')\n",
    "plot_property(aldehydes, 'MW', 'Hf')"
   ]
  }
 ],
 "metadata": {
  "kernelspec": {
   "display_name": "Python 3",
   "language": "python",
   "name": "python3"
  },
  "language_info": {
   "codemirror_mode": {
    "name": "ipython",
    "version": 3
   },
   "file_extension": ".py",
   "mimetype": "text/x-python",
   "name": "python",
   "nbconvert_exporter": "python",
   "pygments_lexer": "ipython3",
   "version": "3.7.4"
  }
 },
 "nbformat": 4,
 "nbformat_minor": 4
}
